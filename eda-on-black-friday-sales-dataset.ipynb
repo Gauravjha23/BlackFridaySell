{
 "cells": [
  {
   "cell_type": "markdown",
   "metadata": {},
   "source": [
    "## Exploratory Data Analysis on Black Friday Sales \n",
    "<img src=\"https://github.com/Gauravjha23/BlackFridaySell/blob/main/Designer.jpeg\"><br>\n",
    "### Dataset Overview\n",
    "A retail company “ABC Private Limited” wants to understand the customer purchase behaviour (specifically, purchase amount) against various products of different categories. They have shared purchase summary of various customers for selected high volume products from last month.\n",
    "* The data set also contains customer demographics (age, gender, marital status, citytype, stayincurrentcity), product details (productid and product category) and Total purchaseamount from last month.\n",
    "\n",
    "* Now, they want to build a model to predict the purchase amount of customer against various products which will help them to create personalized offer for customers against different products."
   ]
  },
  {
   "cell_type": "markdown",
   "metadata": {},
   "source": [
    "What is Exploratory Data Analysis\n",
    "\n",
    "Exploratory Data Analysis (EDA) is the process of exploring, investigating and gathering insights from data using statistical measures and visualizations. The objective of EDA is to develop and understanding of data, by uncovering trends, relationships and patterns.\n",
    "\n",
    "EDA is both a science and an art. On the one hand it requires the knowledge of statistics, visualization techniques and data analysis tools like Numpy, Pandas, Seaborn etc. On the other hand, it requires asking interesting questions to guide the investigation and interpreting numbers & figures to generate useful insights.\n",
    "\n",
    "In this project, I have selected Black Friday Sales data from kaggle to explore and analyze the sales data on each product category, gender, martial status of customers etc.. We'll use the the python libraries pandas, matplotlib and seaborn to do exploratory data analysis on the Sales dataset.\n",
    "\n",
    "Here's the outline of the steps we'll follow:\n",
    "\n",
    "1. Downloading a dataset from an online source\n",
    "2. Data preparation and cleaning with Pandas\n",
    "3. Open-ended exploratory analysis and visualization\n",
    "4. Asking and answering interesting questions\n",
    "5. Summarizing inferences and drawing conclusions<br>\n",
    "\n",
    "By the end this project we will get insights about the factors affecting the sales and some other facts about sale."
   ]
  },
  {
   "cell_type": "code",
   "execution_count": 7,
   "metadata": {
    "_cell_guid": "b1076dfc-b9ad-4769-8c92-a6c4dae69d19",
    "_uuid": "8f2839f25d086af736a60e9eeb907d3b93b6e0e5"
   },
   "outputs": [],
   "source": [
    "import numpy as np\n",
    "import pandas as pd \n",
    "import seaborn as sns\n",
    "import matplotlib.pyplot as plt\n",
    "import warnings\n",
    "warnings.filterwarnings('ignore')\n"
   ]
  },
  {
   "cell_type": "code",
   "execution_count": 8,
   "metadata": {
    "scrolled": true
   },
   "outputs": [],
   "source": [
    "bfs=pd.read_csv(\"black_friday_sales.csv\",index_col=0)"
   ]
  },
  {
   "cell_type": "code",
   "execution_count": 9,
   "metadata": {},
   "outputs": [
    {
     "data": {
      "text/html": [
       "<div>\n",
       "<style scoped>\n",
       "    .dataframe tbody tr th:only-of-type {\n",
       "        vertical-align: middle;\n",
       "    }\n",
       "\n",
       "    .dataframe tbody tr th {\n",
       "        vertical-align: top;\n",
       "    }\n",
       "\n",
       "    .dataframe thead th {\n",
       "        text-align: right;\n",
       "    }\n",
       "</style>\n",
       "<table border=\"1\" class=\"dataframe\">\n",
       "  <thead>\n",
       "    <tr style=\"text-align: right;\">\n",
       "      <th></th>\n",
       "      <th>user_id</th>\n",
       "      <th>product_id</th>\n",
       "      <th>gender</th>\n",
       "      <th>age</th>\n",
       "      <th>occupation</th>\n",
       "      <th>city_category</th>\n",
       "      <th>stay_in_current_city_years</th>\n",
       "      <th>marital_status</th>\n",
       "      <th>product_category_1</th>\n",
       "      <th>product_category_2</th>\n",
       "      <th>product_category_3</th>\n",
       "      <th>purchase</th>\n",
       "    </tr>\n",
       "  </thead>\n",
       "  <tbody>\n",
       "    <tr>\n",
       "      <th>0</th>\n",
       "      <td>1000001</td>\n",
       "      <td>P00069042</td>\n",
       "      <td>F</td>\n",
       "      <td>0-17</td>\n",
       "      <td>10</td>\n",
       "      <td>A</td>\n",
       "      <td>2</td>\n",
       "      <td>0</td>\n",
       "      <td>3.0</td>\n",
       "      <td>4.0</td>\n",
       "      <td>16.0</td>\n",
       "      <td>8370</td>\n",
       "    </tr>\n",
       "    <tr>\n",
       "      <th>1</th>\n",
       "      <td>1000001</td>\n",
       "      <td>P00248942</td>\n",
       "      <td>F</td>\n",
       "      <td>0-17</td>\n",
       "      <td>10</td>\n",
       "      <td>A</td>\n",
       "      <td>2</td>\n",
       "      <td>0</td>\n",
       "      <td>1.0</td>\n",
       "      <td>6.0</td>\n",
       "      <td>14.0</td>\n",
       "      <td>15200</td>\n",
       "    </tr>\n",
       "    <tr>\n",
       "      <th>2</th>\n",
       "      <td>1000001</td>\n",
       "      <td>P00087842</td>\n",
       "      <td>F</td>\n",
       "      <td>0-17</td>\n",
       "      <td>10</td>\n",
       "      <td>A</td>\n",
       "      <td>2</td>\n",
       "      <td>0</td>\n",
       "      <td>12.0</td>\n",
       "      <td>4.0</td>\n",
       "      <td>16.0</td>\n",
       "      <td>1422</td>\n",
       "    </tr>\n",
       "    <tr>\n",
       "      <th>3</th>\n",
       "      <td>1000001</td>\n",
       "      <td>P00085442</td>\n",
       "      <td>F</td>\n",
       "      <td>0-17</td>\n",
       "      <td>10</td>\n",
       "      <td>A</td>\n",
       "      <td>2</td>\n",
       "      <td>0</td>\n",
       "      <td>12.0</td>\n",
       "      <td>14.0</td>\n",
       "      <td>16.0</td>\n",
       "      <td>1057</td>\n",
       "    </tr>\n",
       "    <tr>\n",
       "      <th>4</th>\n",
       "      <td>1000002</td>\n",
       "      <td>P00285442</td>\n",
       "      <td>M</td>\n",
       "      <td>55+</td>\n",
       "      <td>16</td>\n",
       "      <td>C</td>\n",
       "      <td>4</td>\n",
       "      <td>0</td>\n",
       "      <td>8.0</td>\n",
       "      <td>8.0</td>\n",
       "      <td>16.0</td>\n",
       "      <td>7969</td>\n",
       "    </tr>\n",
       "  </tbody>\n",
       "</table>\n",
       "</div>"
      ],
      "text/plain": [
       "   user_id product_id gender   age  occupation city_category  \\\n",
       "0  1000001  P00069042      F  0-17          10             A   \n",
       "1  1000001  P00248942      F  0-17          10             A   \n",
       "2  1000001  P00087842      F  0-17          10             A   \n",
       "3  1000001  P00085442      F  0-17          10             A   \n",
       "4  1000002  P00285442      M   55+          16             C   \n",
       "\n",
       "   stay_in_current_city_years  marital_status  product_category_1  \\\n",
       "0                           2               0                 3.0   \n",
       "1                           2               0                 1.0   \n",
       "2                           2               0                12.0   \n",
       "3                           2               0                12.0   \n",
       "4                           4               0                 8.0   \n",
       "\n",
       "   product_category_2  product_category_3  purchase  \n",
       "0                 4.0                16.0      8370  \n",
       "1                 6.0                14.0     15200  \n",
       "2                 4.0                16.0      1422  \n",
       "3                14.0                16.0      1057  \n",
       "4                 8.0                16.0      7969  "
      ]
     },
     "execution_count": 9,
     "metadata": {},
     "output_type": "execute_result"
    }
   ],
   "source": [
    "bfs.head()"
   ]
  },
  {
   "cell_type": "code",
   "execution_count": 10,
   "metadata": {},
   "outputs": [
    {
     "data": {
      "text/plain": [
       "(550068, 12)"
      ]
     },
     "execution_count": 10,
     "metadata": {},
     "output_type": "execute_result"
    }
   ],
   "source": [
    "bfs.shape"
   ]
  },
  {
   "cell_type": "markdown",
   "metadata": {},
   "source": [
    "## Reading information about data"
   ]
  },
  {
   "cell_type": "code",
   "execution_count": 17,
   "metadata": {},
   "outputs": [
    {
     "name": "stdout",
     "output_type": "stream",
     "text": [
      "<class 'pandas.core.frame.DataFrame'>\n",
      "Index: 550068 entries, 0 to 550067\n",
      "Data columns (total 12 columns):\n",
      " #   Column                      Non-Null Count   Dtype  \n",
      "---  ------                      --------------   -----  \n",
      " 0   user_id                     550068 non-null  int64  \n",
      " 1   product_id                  550068 non-null  object \n",
      " 2   gender                      550068 non-null  object \n",
      " 3   age                         550068 non-null  object \n",
      " 4   occupation                  550068 non-null  int64  \n",
      " 5   city_category               550068 non-null  object \n",
      " 6   stay_in_current_city_years  550068 non-null  int64  \n",
      " 7   marital_status              550068 non-null  int64  \n",
      " 8   product_category_1          550068 non-null  float64\n",
      " 9   product_category_2          550068 non-null  float64\n",
      " 10  product_category_3          550068 non-null  float64\n",
      " 11  purchase                    550068 non-null  int64  \n",
      "dtypes: float64(3), int64(5), object(4)\n",
      "memory usage: 54.6+ MB\n"
     ]
    }
   ],
   "source": [
    "bfs.info()"
   ]
  },
  {
   "cell_type": "code",
   "execution_count": 5,
   "metadata": {},
   "outputs": [
    {
     "data": {
      "text/plain": [
       "Index(['user_id', 'product_id', 'gender', 'age', 'occupation', 'city_category',\n",
       "       'stay_in_current_city_years', 'marital_status', 'product_category_1',\n",
       "       'product_category_2', 'product_category_3', 'purchase'],\n",
       "      dtype='object')"
      ]
     },
     "execution_count": 5,
     "metadata": {},
     "output_type": "execute_result"
    }
   ],
   "source": [
    "bfs.columns"
   ]
  },
  {
   "cell_type": "code",
   "execution_count": 6,
   "metadata": {},
   "outputs": [
    {
     "data": {
      "text/plain": [
       "False    550068\n",
       "Name: count, dtype: int64"
      ]
     },
     "execution_count": 6,
     "metadata": {},
     "output_type": "execute_result"
    }
   ],
   "source": [
    "bfs.duplicated().value_counts()"
   ]
  },
  {
   "cell_type": "markdown",
   "metadata": {},
   "source": [
    "We having total 550068 number of rows data including NaN value with no duplicated data. So, first task to convert the given data into useful data."
   ]
  },
  {
   "cell_type": "markdown",
   "metadata": {},
   "source": [
    "## Data Preprocessing"
   ]
  },
  {
   "cell_type": "markdown",
   "metadata": {},
   "source": [
    "### gender: \n",
    "\n",
    "Column contains gender information with ['M','F'] values."
   ]
  },
  {
   "cell_type": "code",
   "execution_count": 26,
   "metadata": {},
   "outputs": [
    {
     "data": {
      "text/plain": [
       "array(['F', 'M'], dtype=object)"
      ]
     },
     "execution_count": 26,
     "metadata": {},
     "output_type": "execute_result"
    }
   ],
   "source": [
    "bfs.gender.unique()"
   ]
  },
  {
   "cell_type": "code",
   "execution_count": 30,
   "metadata": {},
   "outputs": [
    {
     "data": {
      "text/plain": [
       "Text(0.5, 1.0, 'Gender Count')"
      ]
     },
     "execution_count": 30,
     "metadata": {},
     "output_type": "execute_result"
    },
    {
     "data": {
      "image/png": "[encoded data removed]",
      "text/plain": [
       "<Figure size 640x480 with 1 Axes>"
      ]
     },
     "metadata": {},
     "output_type": "display_data"
    }
   ],
   "source": [
    "sns.countplot(x=bfs.gender)\n",
    "plt.title('Gender Count')"
   ]
  },
  {
   "cell_type": "code",
   "execution_count": 14,
   "metadata": {
    "execution": {
     "iopub.execute_input": "2022-09-22T12:38:35.543102Z",
     "iopub.status.busy": "2022-09-22T12:38:35.542587Z",
     "iopub.status.idle": "2022-09-22T12:38:35.559462Z",
     "shell.execute_reply": "2022-09-22T12:38:35.55803Z",
     "shell.execute_reply.started": "2022-09-22T12:38:35.543071Z"
    }
   },
   "outputs": [
    {
     "data": {
      "text/html": [
       "<div>\n",
       "<style scoped>\n",
       "    .dataframe tbody tr th:only-of-type {\n",
       "        vertical-align: middle;\n",
       "    }\n",
       "\n",
       "    .dataframe tbody tr th {\n",
       "        vertical-align: top;\n",
       "    }\n",
       "\n",
       "    .dataframe thead th {\n",
       "        text-align: right;\n",
       "    }\n",
       "</style>\n",
       "<table border=\"1\" class=\"dataframe\">\n",
       "  <thead>\n",
       "    <tr style=\"text-align: right;\">\n",
       "      <th></th>\n",
       "      <th>User_ID</th>\n",
       "      <th>Product_ID</th>\n",
       "      <th>Gender</th>\n",
       "      <th>Age</th>\n",
       "      <th>Occupation</th>\n",
       "      <th>City_Category</th>\n",
       "      <th>Stay_In_Current_City_Years</th>\n",
       "      <th>Marital_Status</th>\n",
       "      <th>Product_Category_1</th>\n",
       "      <th>Product_Category_2</th>\n",
       "      <th>Product_Category_3</th>\n",
       "      <th>Purchase</th>\n",
       "    </tr>\n",
       "  </thead>\n",
       "  <tbody>\n",
       "    <tr>\n",
       "      <th>0</th>\n",
       "      <td>1000001</td>\n",
       "      <td>P00069042</td>\n",
       "      <td>F</td>\n",
       "      <td>0-17</td>\n",
       "      <td>10</td>\n",
       "      <td>A</td>\n",
       "      <td>2</td>\n",
       "      <td>0</td>\n",
       "      <td>3</td>\n",
       "      <td>NaN</td>\n",
       "      <td>NaN</td>\n",
       "      <td>8370</td>\n",
       "    </tr>\n",
       "    <tr>\n",
       "      <th>1</th>\n",
       "      <td>1000001</td>\n",
       "      <td>P00248942</td>\n",
       "      <td>F</td>\n",
       "      <td>0-17</td>\n",
       "      <td>10</td>\n",
       "      <td>A</td>\n",
       "      <td>2</td>\n",
       "      <td>0</td>\n",
       "      <td>1</td>\n",
       "      <td>6.0</td>\n",
       "      <td>14.0</td>\n",
       "      <td>15200</td>\n",
       "    </tr>\n",
       "  </tbody>\n",
       "</table>\n",
       "</div>"
      ],
      "text/plain": [
       "   User_ID Product_ID Gender   Age  Occupation City_Category  \\\n",
       "0  1000001  P00069042      F  0-17          10             A   \n",
       "1  1000001  P00248942      F  0-17          10             A   \n",
       "\n",
       "  Stay_In_Current_City_Years  Marital_Status  Product_Category_1  \\\n",
       "0                          2               0                   3   \n",
       "1                          2               0                   1   \n",
       "\n",
       "   Product_Category_2  Product_Category_3  Purchase  \n",
       "0                 NaN                 NaN      8370  \n",
       "1                 6.0                14.0     15200  "
      ]
     },
     "execution_count": 14,
     "metadata": {},
     "output_type": "execute_result"
    }
   ],
   "source": [
    "bfs.head(2)"
   ]
  },
  {
   "cell_type": "markdown",
   "metadata": {},
   "source": [
    "### age:\n",
    "\n",
    "Column contains Age category of customers."
   ]
  },
  {
   "cell_type": "code",
   "execution_count": 15,
   "metadata": {
    "execution": {
     "iopub.execute_input": "2022-09-22T12:38:35.562389Z",
     "iopub.status.busy": "2022-09-22T12:38:35.561832Z",
     "iopub.status.idle": "2022-09-22T12:38:35.607527Z",
     "shell.execute_reply": "2022-09-22T12:38:35.606298Z",
     "shell.execute_reply.started": "2022-09-22T12:38:35.562352Z"
    }
   },
   "outputs": [
    {
     "data": {
      "text/plain": [
       "array(['0-17', '55+', '26-35', '46-50', '51-55', '36-45', '18-25'],\n",
       "      dtype=object)"
      ]
     },
     "execution_count": 15,
     "metadata": {},
     "output_type": "execute_result"
    }
   ],
   "source": [
    "bfs.Age.unique()"
   ]
  },
  {
   "cell_type": "markdown",
   "metadata": {},
   "source": [
    "We have total 7 age category customers data.\n",
    "\n",
    "'0-17', '18-25', '26-35', '36-45', '46-50', '51-55' and '55+'.\n"
   ]
  },
  {
   "cell_type": "code",
   "execution_count": 37,
   "metadata": {},
   "outputs": [
    {
     "data": {
      "text/plain": [
       "Text(0.5, 1.0, 'Age Categories Count')"
      ]
     },
     "execution_count": 37,
     "metadata": {},
     "output_type": "execute_result"
    },
    {
     "data": {
      "image/png": "[encoded data removed]",
      "text/plain": [
       "<Figure size 432x288 with 1 Axes>"
      ]
     },
     "metadata": {
      "needs_background": "light"
     },
     "output_type": "display_data"
    }
   ],
   "source": [
    "sns.countplot(bfs.Age)\n",
    "plt.title('Age Categories Count')"
   ]
  },
  {
   "cell_type": "markdown",
   "metadata": {},
   "source": [
    "### occupation:\n",
    "\n",
    "Contains Occupation information of customers in the form of masked value format."
   ]
  },
  {
   "cell_type": "code",
   "execution_count": 16,
   "metadata": {
    "execution": {
     "iopub.execute_input": "2022-09-22T12:38:35.611865Z",
     "iopub.status.busy": "2022-09-22T12:38:35.611425Z",
     "iopub.status.idle": "2022-09-22T12:38:35.629151Z",
     "shell.execute_reply": "2022-09-22T12:38:35.627875Z",
     "shell.execute_reply.started": "2022-09-22T12:38:35.611826Z"
    }
   },
   "outputs": [
    {
     "data": {
      "text/plain": [
       "(array([10, 16, 15,  7, 20,  9,  1, 12, 17,  0,  3,  4, 11,  8, 19,  2, 18,\n",
       "         5, 14, 13,  6]),\n",
       " 21,\n",
       " dtype('int64'))"
      ]
     },
     "execution_count": 16,
     "metadata": {},
     "output_type": "execute_result"
    }
   ],
   "source": [
    "bfs.Occupation.unique(),len(bfs.Occupation.unique()),bfs.Occupation.dtype"
   ]
  },
  {
   "cell_type": "markdown",
   "metadata": {},
   "source": [
    "We have 21 occupations type of customers "
   ]
  },
  {
   "cell_type": "markdown",
   "metadata": {},
   "source": [
    "### city_category\n",
    "\n",
    "Contains information of cities category wise "
   ]
  },
  {
   "cell_type": "code",
   "execution_count": 17,
   "metadata": {
    "execution": {
     "iopub.execute_input": "2022-09-22T12:38:35.631104Z",
     "iopub.status.busy": "2022-09-22T12:38:35.630688Z",
     "iopub.status.idle": "2022-09-22T12:38:35.675437Z",
     "shell.execute_reply": "2022-09-22T12:38:35.674077Z",
     "shell.execute_reply.started": "2022-09-22T12:38:35.63107Z"
    }
   },
   "outputs": [
    {
     "data": {
      "text/plain": [
       "array(['A', 'C', 'B'], dtype=object)"
      ]
     },
     "execution_count": 17,
     "metadata": {},
     "output_type": "execute_result"
    }
   ],
   "source": [
    "bfs.City_Category.unique()"
   ]
  },
  {
   "cell_type": "code",
   "execution_count": 38,
   "metadata": {},
   "outputs": [
    {
     "data": {
      "text/plain": [
       "Text(0.5, 1.0, 'City Categories Count')"
      ]
     },
     "execution_count": 38,
     "metadata": {},
     "output_type": "execute_result"
    },
    {
     "data": {
      "image/png": "[encoded data removed]",
      "text/plain": [
       "<Figure size 432x288 with 1 Axes>"
      ]
     },
     "metadata": {
      "needs_background": "light"
     },
     "output_type": "display_data"
    }
   ],
   "source": [
    "sns.countplot(bfs.City_Category)\n",
    "plt.title('City Categories Count')"
   ]
  },
  {
   "cell_type": "markdown",
   "metadata": {},
   "source": [
    "### stay_in_current_city_years:\n",
    "\n",
    "Contains total number years indicating that the information of customers whose belonging to current city. "
   ]
  },
  {
   "cell_type": "code",
   "execution_count": 18,
   "metadata": {
    "execution": {
     "iopub.execute_input": "2022-09-22T12:38:35.677283Z",
     "iopub.status.busy": "2022-09-22T12:38:35.676921Z",
     "iopub.status.idle": "2022-09-22T12:38:35.721674Z",
     "shell.execute_reply": "2022-09-22T12:38:35.720483Z",
     "shell.execute_reply.started": "2022-09-22T12:38:35.677247Z"
    }
   },
   "outputs": [
    {
     "data": {
      "text/plain": [
       "array(['2', '4+', '3', '1', '0'], dtype=object)"
      ]
     },
     "execution_count": 18,
     "metadata": {},
     "output_type": "execute_result"
    }
   ],
   "source": [
    "bfs.Stay_In_Current_City_Years.unique()"
   ]
  },
  {
   "cell_type": "markdown",
   "metadata": {},
   "source": [
    "We have customer who are staying in city from '0', '1', '2', '3', '4+' years.\n",
    "\n",
    "We  can replace '4+' years to '4' so we can get excat number and we can assume that those customer are belonging to current city form 4 years are staying more than 4 years in the current city."
   ]
  },
  {
   "cell_type": "code",
   "execution_count": 19,
   "metadata": {
    "execution": {
     "iopub.execute_input": "2022-09-22T12:38:35.723791Z",
     "iopub.status.busy": "2022-09-22T12:38:35.723426Z",
     "iopub.status.idle": "2022-09-22T12:38:35.814218Z",
     "shell.execute_reply": "2022-09-22T12:38:35.813341Z",
     "shell.execute_reply.started": "2022-09-22T12:38:35.723738Z"
    }
   },
   "outputs": [
    {
     "data": {
      "text/plain": [
       "array([2, 4, 3, 1, 0])"
      ]
     },
     "execution_count": 19,
     "metadata": {},
     "output_type": "execute_result"
    }
   ],
   "source": [
    "bfs.Stay_In_Current_City_Years=bfs.Stay_In_Current_City_Years.replace(\"4+\",'4').astype(int)\n",
    "bfs.Stay_In_Current_City_Years.unique()"
   ]
  },
  {
   "cell_type": "markdown",
   "metadata": {},
   "source": [
    "Here, we got 0, 1, 2, 3, 4 years which integer values."
   ]
  },
  {
   "cell_type": "markdown",
   "metadata": {},
   "source": [
    "### marital_status:\n",
    "\n",
    "Contains information of customer that they are married or not. "
   ]
  },
  {
   "cell_type": "code",
   "execution_count": 20,
   "metadata": {
    "execution": {
     "iopub.execute_input": "2022-09-22T12:38:35.815986Z",
     "iopub.status.busy": "2022-09-22T12:38:35.815617Z",
     "iopub.status.idle": "2022-09-22T12:38:35.826757Z",
     "shell.execute_reply": "2022-09-22T12:38:35.825349Z",
     "shell.execute_reply.started": "2022-09-22T12:38:35.815954Z"
    }
   },
   "outputs": [
    {
     "data": {
      "text/plain": [
       "array([0, 1])"
      ]
     },
     "execution_count": 20,
     "metadata": {},
     "output_type": "execute_result"
    }
   ],
   "source": [
    "bfs.Marital_Status.unique()"
   ]
  },
  {
   "cell_type": "code",
   "execution_count": 39,
   "metadata": {},
   "outputs": [
    {
     "data": {
      "text/plain": [
       "Text(0.5, 1.0, 'Married v/s Unmarried')"
      ]
     },
     "execution_count": 39,
     "metadata": {},
     "output_type": "execute_result"
    },
    {
     "data": {
      "image/png": "[encoded data removed]",
      "text/plain": [
       "<Figure size 432x288 with 1 Axes>"
      ]
     },
     "metadata": {
      "needs_background": "light"
     },
     "output_type": "display_data"
    }
   ],
   "source": [
    "sns.countplot(bfs.Marital_Status,)\n",
    "plt.title('Married v/s Unmarried')"
   ]
  },
  {
   "cell_type": "markdown",
   "metadata": {},
   "source": [
    "We assume that **0** means the customer married status is **single** and **1** means the customer is **married**. "
   ]
  },
  {
   "cell_type": "markdown",
   "metadata": {},
   "source": [
    "### product_category:\n",
    "\n",
    "Contains category wise product value. \n",
    "\n"
   ]
  },
  {
   "cell_type": "code",
   "execution_count": 21,
   "metadata": {
    "execution": {
     "iopub.execute_input": "2022-09-22T12:38:35.830086Z",
     "iopub.status.busy": "2022-09-22T12:38:35.828932Z",
     "iopub.status.idle": "2022-09-22T12:38:35.845736Z",
     "shell.execute_reply": "2022-09-22T12:38:35.844801Z",
     "shell.execute_reply.started": "2022-09-22T12:38:35.830046Z"
    }
   },
   "outputs": [
    {
     "data": {
      "text/html": [
       "<div>\n",
       "<style scoped>\n",
       "    .dataframe tbody tr th:only-of-type {\n",
       "        vertical-align: middle;\n",
       "    }\n",
       "\n",
       "    .dataframe tbody tr th {\n",
       "        vertical-align: top;\n",
       "    }\n",
       "\n",
       "    .dataframe thead th {\n",
       "        text-align: right;\n",
       "    }\n",
       "</style>\n",
       "<table border=\"1\" class=\"dataframe\">\n",
       "  <thead>\n",
       "    <tr style=\"text-align: right;\">\n",
       "      <th></th>\n",
       "      <th>User_ID</th>\n",
       "      <th>Product_ID</th>\n",
       "      <th>Gender</th>\n",
       "      <th>Age</th>\n",
       "      <th>Occupation</th>\n",
       "      <th>City_Category</th>\n",
       "      <th>Stay_In_Current_City_Years</th>\n",
       "      <th>Marital_Status</th>\n",
       "      <th>Product_Category_1</th>\n",
       "      <th>Product_Category_2</th>\n",
       "      <th>Product_Category_3</th>\n",
       "      <th>Purchase</th>\n",
       "    </tr>\n",
       "  </thead>\n",
       "  <tbody>\n",
       "    <tr>\n",
       "      <th>0</th>\n",
       "      <td>1000001</td>\n",
       "      <td>P00069042</td>\n",
       "      <td>F</td>\n",
       "      <td>0-17</td>\n",
       "      <td>10</td>\n",
       "      <td>A</td>\n",
       "      <td>2</td>\n",
       "      <td>0</td>\n",
       "      <td>3</td>\n",
       "      <td>NaN</td>\n",
       "      <td>NaN</td>\n",
       "      <td>8370</td>\n",
       "    </tr>\n",
       "    <tr>\n",
       "      <th>1</th>\n",
       "      <td>1000001</td>\n",
       "      <td>P00248942</td>\n",
       "      <td>F</td>\n",
       "      <td>0-17</td>\n",
       "      <td>10</td>\n",
       "      <td>A</td>\n",
       "      <td>2</td>\n",
       "      <td>0</td>\n",
       "      <td>1</td>\n",
       "      <td>6.0</td>\n",
       "      <td>14.0</td>\n",
       "      <td>15200</td>\n",
       "    </tr>\n",
       "  </tbody>\n",
       "</table>\n",
       "</div>"
      ],
      "text/plain": [
       "   User_ID Product_ID Gender   Age  Occupation City_Category  \\\n",
       "0  1000001  P00069042      F  0-17          10             A   \n",
       "1  1000001  P00248942      F  0-17          10             A   \n",
       "\n",
       "   Stay_In_Current_City_Years  Marital_Status  Product_Category_1  \\\n",
       "0                           2               0                   3   \n",
       "1                           2               0                   1   \n",
       "\n",
       "   Product_Category_2  Product_Category_3  Purchase  \n",
       "0                 NaN                 NaN      8370  \n",
       "1                 6.0                14.0     15200  "
      ]
     },
     "execution_count": 21,
     "metadata": {},
     "output_type": "execute_result"
    }
   ],
   "source": [
    "bfs.head(2)"
   ]
  },
  {
   "cell_type": "markdown",
   "metadata": {},
   "source": [
    "We have three product categories columns, product_category_1, product_category_2 and product_category_3 is nothing but the different varities of products.\n",
    "\n",
    "Ex.:\n",
    "\n",
    "We can assume that **product_category_1 having Electronics items**, **product_category_2 having Cloths & Grarments**, **product_category_3 and having Grocery**."
   ]
  },
  {
   "cell_type": "code",
   "execution_count": 23,
   "metadata": {
    "execution": {
     "iopub.execute_input": "2022-09-22T12:38:35.848186Z",
     "iopub.status.busy": "2022-09-22T12:38:35.847125Z",
     "iopub.status.idle": "2022-09-22T12:38:35.882657Z",
     "shell.execute_reply": "2022-09-22T12:38:35.881744Z",
     "shell.execute_reply.started": "2022-09-22T12:38:35.848134Z"
    }
   },
   "outputs": [
    {
     "name": "stdout",
     "output_type": "stream",
     "text": [
      "<class 'pandas.core.frame.DataFrame'>\n",
      "RangeIndex: 550068 entries, 0 to 550067\n",
      "Data columns (total 3 columns):\n",
      " #   Column              Non-Null Count   Dtype  \n",
      "---  ------              --------------   -----  \n",
      " 0   Product_Category_1  550068 non-null  int64  \n",
      " 1   Product_Category_2  376430 non-null  float64\n",
      " 2   Product_Category_3  166821 non-null  float64\n",
      "dtypes: float64(2), int64(1)\n",
      "memory usage: 12.6 MB\n"
     ]
    }
   ],
   "source": [
    "bfs[['Product_Category_1','Product_Category_2','Product_Category_3']].info()"
   ]
  },
  {
   "cell_type": "markdown",
   "metadata": {},
   "source": [
    "Notice that product category having NaN values or empty values. Let's try to fill them by seeing another columns info."
   ]
  },
  {
   "cell_type": "code",
   "execution_count": 24,
   "metadata": {
    "execution": {
     "iopub.execute_input": "2022-09-22T12:38:35.884207Z",
     "iopub.status.busy": "2022-09-22T12:38:35.883889Z",
     "iopub.status.idle": "2022-09-22T12:38:35.901059Z",
     "shell.execute_reply": "2022-09-22T12:38:35.899644Z",
     "shell.execute_reply.started": "2022-09-22T12:38:35.884179Z"
    }
   },
   "outputs": [
    {
     "data": {
      "text/html": [
       "<div>\n",
       "<style scoped>\n",
       "    .dataframe tbody tr th:only-of-type {\n",
       "        vertical-align: middle;\n",
       "    }\n",
       "\n",
       "    .dataframe tbody tr th {\n",
       "        vertical-align: top;\n",
       "    }\n",
       "\n",
       "    .dataframe thead th {\n",
       "        text-align: right;\n",
       "    }\n",
       "</style>\n",
       "<table border=\"1\" class=\"dataframe\">\n",
       "  <thead>\n",
       "    <tr style=\"text-align: right;\">\n",
       "      <th></th>\n",
       "      <th>User_ID</th>\n",
       "      <th>Product_ID</th>\n",
       "      <th>Gender</th>\n",
       "      <th>Age</th>\n",
       "      <th>Occupation</th>\n",
       "      <th>City_Category</th>\n",
       "      <th>Stay_In_Current_City_Years</th>\n",
       "      <th>Marital_Status</th>\n",
       "      <th>Product_Category_1</th>\n",
       "      <th>Product_Category_2</th>\n",
       "      <th>Product_Category_3</th>\n",
       "      <th>Purchase</th>\n",
       "    </tr>\n",
       "  </thead>\n",
       "  <tbody>\n",
       "    <tr>\n",
       "      <th>0</th>\n",
       "      <td>1000001</td>\n",
       "      <td>P00069042</td>\n",
       "      <td>F</td>\n",
       "      <td>0-17</td>\n",
       "      <td>10</td>\n",
       "      <td>A</td>\n",
       "      <td>2</td>\n",
       "      <td>0</td>\n",
       "      <td>3</td>\n",
       "      <td>NaN</td>\n",
       "      <td>NaN</td>\n",
       "      <td>8370</td>\n",
       "    </tr>\n",
       "    <tr>\n",
       "      <th>1</th>\n",
       "      <td>1000001</td>\n",
       "      <td>P00248942</td>\n",
       "      <td>F</td>\n",
       "      <td>0-17</td>\n",
       "      <td>10</td>\n",
       "      <td>A</td>\n",
       "      <td>2</td>\n",
       "      <td>0</td>\n",
       "      <td>1</td>\n",
       "      <td>6.0</td>\n",
       "      <td>14.0</td>\n",
       "      <td>15200</td>\n",
       "    </tr>\n",
       "  </tbody>\n",
       "</table>\n",
       "</div>"
      ],
      "text/plain": [
       "   User_ID Product_ID Gender   Age  Occupation City_Category  \\\n",
       "0  1000001  P00069042      F  0-17          10             A   \n",
       "1  1000001  P00248942      F  0-17          10             A   \n",
       "\n",
       "   Stay_In_Current_City_Years  Marital_Status  Product_Category_1  \\\n",
       "0                           2               0                   3   \n",
       "1                           2               0                   1   \n",
       "\n",
       "   Product_Category_2  Product_Category_3  Purchase  \n",
       "0                 NaN                 NaN      8370  \n",
       "1                 6.0                14.0     15200  "
      ]
     },
     "execution_count": 24,
     "metadata": {},
     "output_type": "execute_result"
    }
   ],
   "source": [
    "bfs.head(2)"
   ]
  },
  {
   "cell_type": "markdown",
   "metadata": {},
   "source": [
    "See we have two columns Gender and occupation. By seeing these two columns we can analyse that which column giving us a useful values to fill the nan values of product categories.\n",
    "\n",
    "Ex.:\n",
    "\n",
    "* By seaing the '**age**' column we can analyze that which product category are mostely used by the perticular age of customer and we can fill that category value inplace of nan values.\n",
    "* By seaing the '**occupation**' column we can analyze that which product category are mostely used by the perticular customers depends on their occupation and we can fill that category value inplace of nan values.\n",
    "\n",
    "In the next steps let's see that which column giving us most useful values."
   ]
  },
  {
   "cell_type": "code",
   "execution_count": 26,
   "metadata": {
    "execution": {
     "iopub.execute_input": "2022-09-22T12:38:35.903638Z",
     "iopub.status.busy": "2022-09-22T12:38:35.903137Z",
     "iopub.status.idle": "2022-09-22T12:38:36.134068Z",
     "shell.execute_reply": "2022-09-22T12:38:36.132902Z",
     "shell.execute_reply.started": "2022-09-22T12:38:35.903593Z"
    }
   },
   "outputs": [],
   "source": [
    "a=bfs.groupby('Age')['Product_Category_2'].agg(pd.Series.mode)\n",
    "b=bfs.groupby('Age')['Product_Category_3'].agg(pd.Series.mode)\n",
    "c=bfs.groupby('Occupation')['Product_Category_2'].agg(pd.Series.mode)\n",
    "d=bfs.groupby('Occupation')['Product_Category_3'].agg(pd.Series.mode)# mode gives us a most repeated value"
   ]
  },
  {
   "cell_type": "code",
   "execution_count": 27,
   "metadata": {
    "execution": {
     "iopub.execute_input": "2022-09-22T12:38:36.135936Z",
     "iopub.status.busy": "2022-09-22T12:38:36.135576Z",
     "iopub.status.idle": "2022-09-22T12:38:36.187261Z",
     "shell.execute_reply": "2022-09-22T12:38:36.185782Z",
     "shell.execute_reply.started": "2022-09-22T12:38:36.135902Z"
    }
   },
   "outputs": [
    {
     "data": {
      "text/plain": [
       "Age\n",
       "0-17     4.0\n",
       "18-25    8.0\n",
       "26-35    8.0\n",
       "36-45    8.0\n",
       "46-50    8.0\n",
       "51-55    8.0\n",
       "55+      8.0\n",
       "Name: Product_Category_2, dtype: float64"
      ]
     },
     "execution_count": 27,
     "metadata": {},
     "output_type": "execute_result"
    }
   ],
   "source": [
    "a"
   ]
  },
  {
   "cell_type": "code",
   "execution_count": 28,
   "metadata": {
    "execution": {
     "iopub.execute_input": "2022-09-22T12:38:57.362735Z",
     "iopub.status.busy": "2022-09-22T12:38:57.362292Z",
     "iopub.status.idle": "2022-09-22T12:38:58.364095Z",
     "shell.execute_reply": "2022-09-22T12:38:58.36255Z",
     "shell.execute_reply.started": "2022-09-22T12:38:57.362698Z"
    }
   },
   "outputs": [
    {
     "data": {
      "image/png": "[encoded data removed]",
      "text/plain": [
       "<Figure size 1296x720 with 4 Axes>"
      ]
     },
     "metadata": {
      "needs_background": "light"
     },
     "output_type": "display_data"
    }
   ],
   "source": [
    "plt.figure(figsize=(18,10))\n",
    "plt.subplots_adjust(left=0.1,\n",
    "                    bottom=0.1,\n",
    "                    right=0.9,\n",
    "                    top=0.9,\n",
    "                    wspace=0.4,\n",
    "                    hspace=0.4)\n",
    "plt.subplot(2,2,1)\n",
    "a.plot(kind='bar',title=\"age_vs_product_category_2\")\n",
    "plt.subplot(2,2,2)\n",
    "b.plot(kind='bar',title=\"age_vs_product_category_3\")\n",
    "plt.subplot(2,2,3)\n",
    "c.plot(kind='bar',title=\"occupation_vs_product_category_2\")\n",
    "plt.subplot(2,2,4)\n",
    "d.plot(kind='bar',title=\"occupation_vs_product_category_3\")\n",
    "plt.show()\n",
    "\n",
    "# here we trying to fill only product_category_2 and product_category_3 NaN values because product_category_1 having 0 NaN values."
   ]
  },
  {
   "cell_type": "markdown",
   "metadata": {},
   "source": [
    "By comparing both '**age**' and '**occupation**' colums we can see that **on the basis of occupation we are getting more and differnt Product_categories which are mostly repeated.** \n",
    "\n",
    "So, **we can fill the nan product_category values corresponding to customer occupation.**\n",
    "\n",
    "In the next step to fill this NaN values let's try to write function which we can use for each product_category.\n",
    "\n",
    "* Insted of repeat the code for each product_category we can use code reusability concept here."
   ]
  },
  {
   "cell_type": "code",
   "execution_count": 29,
   "metadata": {
    "execution": {
     "iopub.execute_input": "2022-09-22T12:38:37.065565Z",
     "iopub.status.busy": "2022-09-22T12:38:37.065121Z",
     "iopub.status.idle": "2022-09-22T12:38:37.074457Z",
     "shell.execute_reply": "2022-09-22T12:38:37.073592Z",
     "shell.execute_reply.started": "2022-09-22T12:38:37.065528Z"
    }
   },
   "outputs": [],
   "source": [
    "def fill_nan_category(category_colunm):\n",
    "    x=bfs.groupby('Occupation')[category_colunm].agg(pd.Series.mode)\n",
    "    for i,j in zip(x.index,x):\n",
    "        bfs.loc[bfs['Occupation']==i,category_colunm]=bfs.loc[bfs['Occupation']==i,category_colunm].fillna(j)"
   ]
  },
  {
   "cell_type": "code",
   "execution_count": 31,
   "metadata": {
    "execution": {
     "iopub.execute_input": "2022-09-22T12:38:37.077169Z",
     "iopub.status.busy": "2022-09-22T12:38:37.076098Z",
     "iopub.status.idle": "2022-09-22T12:38:37.519799Z",
     "shell.execute_reply": "2022-09-22T12:38:37.51854Z",
     "shell.execute_reply.started": "2022-09-22T12:38:37.077121Z"
    }
   },
   "outputs": [],
   "source": [
    "fill_nan_category('Product_Category_1')\n",
    "fill_nan_category('Product_Category_2')\n",
    "fill_nan_category('Product_Category_3')\n",
    "bfs.Product_Category_1=bfs.Product_Category_1.astype(float)"
   ]
  },
  {
   "cell_type": "code",
   "execution_count": 32,
   "metadata": {
    "execution": {
     "iopub.execute_input": "2022-09-22T12:38:37.524721Z",
     "iopub.status.busy": "2022-09-22T12:38:37.521451Z",
     "iopub.status.idle": "2022-09-22T12:38:37.552186Z",
     "shell.execute_reply": "2022-09-22T12:38:37.550785Z",
     "shell.execute_reply.started": "2022-09-22T12:38:37.524668Z"
    }
   },
   "outputs": [
    {
     "name": "stdout",
     "output_type": "stream",
     "text": [
      "<class 'pandas.core.frame.DataFrame'>\n",
      "RangeIndex: 550068 entries, 0 to 550067\n",
      "Data columns (total 3 columns):\n",
      " #   Column              Non-Null Count   Dtype  \n",
      "---  ------              --------------   -----  \n",
      " 0   Product_Category_1  550068 non-null  float64\n",
      " 1   Product_Category_2  550068 non-null  float64\n",
      " 2   Product_Category_3  550068 non-null  float64\n",
      "dtypes: float64(3)\n",
      "memory usage: 12.6 MB\n"
     ]
    }
   ],
   "source": [
    "bfs[['Product_Category_1','Product_Category_2','Product_Category_3']].info()"
   ]
  },
  {
   "cell_type": "markdown",
   "metadata": {},
   "source": [
    "Here, see we succesfully filled the NaN values with proper data. \n",
    "##### **In this concept I hope you understood how we can fill the NaN values by analysing and compering corresponding columns. And where we can use the code resuability concept.**"
   ]
  },
  {
   "cell_type": "markdown",
   "metadata": {},
   "source": [
    "### purchase:\n",
    "\n",
    "Contains the purchse value for product by customer."
   ]
  },
  {
   "cell_type": "code",
   "execution_count": 33,
   "metadata": {
    "execution": {
     "iopub.execute_input": "2022-09-22T12:38:37.556105Z",
     "iopub.status.busy": "2022-09-22T12:38:37.554186Z",
     "iopub.status.idle": "2022-09-22T12:38:37.574413Z",
     "shell.execute_reply": "2022-09-22T12:38:37.573484Z",
     "shell.execute_reply.started": "2022-09-22T12:38:37.556055Z"
    }
   },
   "outputs": [
    {
     "data": {
      "text/plain": [
       "(array([ 8370, 15200,  1422, ...,   135,   123,   613]), 550068)"
      ]
     },
     "execution_count": 33,
     "metadata": {},
     "output_type": "execute_result"
    }
   ],
   "source": [
    "bfs.Purchase.unique(),bfs.Purchase.isnull().count()"
   ]
  },
  {
   "cell_type": "code",
   "execution_count": 34,
   "metadata": {
    "execution": {
     "iopub.execute_input": "2022-09-22T12:38:37.581693Z",
     "iopub.status.busy": "2022-09-22T12:38:37.580931Z",
     "iopub.status.idle": "2022-09-22T12:38:37.7008Z",
     "shell.execute_reply": "2022-09-22T12:38:37.6994Z",
     "shell.execute_reply.started": "2022-09-22T12:38:37.581654Z"
    }
   },
   "outputs": [
    {
     "name": "stdout",
     "output_type": "stream",
     "text": [
      "<class 'pandas.core.frame.DataFrame'>\n",
      "RangeIndex: 550068 entries, 0 to 550067\n",
      "Data columns (total 12 columns):\n",
      " #   Column                      Non-Null Count   Dtype  \n",
      "---  ------                      --------------   -----  \n",
      " 0   User_ID                     550068 non-null  int64  \n",
      " 1   Product_ID                  550068 non-null  object \n",
      " 2   Gender                      550068 non-null  object \n",
      " 3   Age                         550068 non-null  object \n",
      " 4   Occupation                  550068 non-null  int64  \n",
      " 5   City_Category               550068 non-null  object \n",
      " 6   Stay_In_Current_City_Years  550068 non-null  int64  \n",
      " 7   Marital_Status              550068 non-null  int64  \n",
      " 8   Product_Category_1          550068 non-null  float64\n",
      " 9   Product_Category_2          550068 non-null  float64\n",
      " 10  Product_Category_3          550068 non-null  float64\n",
      " 11  Purchase                    550068 non-null  int64  \n",
      "dtypes: float64(3), int64(5), object(4)\n",
      "memory usage: 50.4+ MB\n"
     ]
    }
   ],
   "source": [
    "bfs.info()"
   ]
  },
  {
   "cell_type": "code",
   "execution_count": 35,
   "metadata": {
    "execution": {
     "iopub.execute_input": "2022-09-22T12:38:37.703863Z",
     "iopub.status.busy": "2022-09-22T12:38:37.702599Z",
     "iopub.status.idle": "2022-09-22T12:38:37.724902Z",
     "shell.execute_reply": "2022-09-22T12:38:37.723247Z",
     "shell.execute_reply.started": "2022-09-22T12:38:37.703809Z"
    }
   },
   "outputs": [
    {
     "data": {
      "text/html": [
       "<div>\n",
       "<style scoped>\n",
       "    .dataframe tbody tr th:only-of-type {\n",
       "        vertical-align: middle;\n",
       "    }\n",
       "\n",
       "    .dataframe tbody tr th {\n",
       "        vertical-align: top;\n",
       "    }\n",
       "\n",
       "    .dataframe thead th {\n",
       "        text-align: right;\n",
       "    }\n",
       "</style>\n",
       "<table border=\"1\" class=\"dataframe\">\n",
       "  <thead>\n",
       "    <tr style=\"text-align: right;\">\n",
       "      <th></th>\n",
       "      <th>User_ID</th>\n",
       "      <th>Product_ID</th>\n",
       "      <th>Gender</th>\n",
       "      <th>Age</th>\n",
       "      <th>Occupation</th>\n",
       "      <th>City_Category</th>\n",
       "      <th>Stay_In_Current_City_Years</th>\n",
       "      <th>Marital_Status</th>\n",
       "      <th>Product_Category_1</th>\n",
       "      <th>Product_Category_2</th>\n",
       "      <th>Product_Category_3</th>\n",
       "      <th>Purchase</th>\n",
       "    </tr>\n",
       "  </thead>\n",
       "  <tbody>\n",
       "    <tr>\n",
       "      <th>0</th>\n",
       "      <td>1000001</td>\n",
       "      <td>P00069042</td>\n",
       "      <td>F</td>\n",
       "      <td>0-17</td>\n",
       "      <td>10</td>\n",
       "      <td>A</td>\n",
       "      <td>2</td>\n",
       "      <td>0</td>\n",
       "      <td>3.0</td>\n",
       "      <td>4.0</td>\n",
       "      <td>16.0</td>\n",
       "      <td>8370</td>\n",
       "    </tr>\n",
       "    <tr>\n",
       "      <th>1</th>\n",
       "      <td>1000001</td>\n",
       "      <td>P00248942</td>\n",
       "      <td>F</td>\n",
       "      <td>0-17</td>\n",
       "      <td>10</td>\n",
       "      <td>A</td>\n",
       "      <td>2</td>\n",
       "      <td>0</td>\n",
       "      <td>1.0</td>\n",
       "      <td>6.0</td>\n",
       "      <td>14.0</td>\n",
       "      <td>15200</td>\n",
       "    </tr>\n",
       "    <tr>\n",
       "      <th>2</th>\n",
       "      <td>1000001</td>\n",
       "      <td>P00087842</td>\n",
       "      <td>F</td>\n",
       "      <td>0-17</td>\n",
       "      <td>10</td>\n",
       "      <td>A</td>\n",
       "      <td>2</td>\n",
       "      <td>0</td>\n",
       "      <td>12.0</td>\n",
       "      <td>4.0</td>\n",
       "      <td>16.0</td>\n",
       "      <td>1422</td>\n",
       "    </tr>\n",
       "    <tr>\n",
       "      <th>3</th>\n",
       "      <td>1000001</td>\n",
       "      <td>P00085442</td>\n",
       "      <td>F</td>\n",
       "      <td>0-17</td>\n",
       "      <td>10</td>\n",
       "      <td>A</td>\n",
       "      <td>2</td>\n",
       "      <td>0</td>\n",
       "      <td>12.0</td>\n",
       "      <td>14.0</td>\n",
       "      <td>16.0</td>\n",
       "      <td>1057</td>\n",
       "    </tr>\n",
       "    <tr>\n",
       "      <th>4</th>\n",
       "      <td>1000002</td>\n",
       "      <td>P00285442</td>\n",
       "      <td>M</td>\n",
       "      <td>55+</td>\n",
       "      <td>16</td>\n",
       "      <td>C</td>\n",
       "      <td>4</td>\n",
       "      <td>0</td>\n",
       "      <td>8.0</td>\n",
       "      <td>8.0</td>\n",
       "      <td>16.0</td>\n",
       "      <td>7969</td>\n",
       "    </tr>\n",
       "  </tbody>\n",
       "</table>\n",
       "</div>"
      ],
      "text/plain": [
       "   User_ID Product_ID Gender   Age  Occupation City_Category  \\\n",
       "0  1000001  P00069042      F  0-17          10             A   \n",
       "1  1000001  P00248942      F  0-17          10             A   \n",
       "2  1000001  P00087842      F  0-17          10             A   \n",
       "3  1000001  P00085442      F  0-17          10             A   \n",
       "4  1000002  P00285442      M   55+          16             C   \n",
       "\n",
       "   Stay_In_Current_City_Years  Marital_Status  Product_Category_1  \\\n",
       "0                           2               0                 3.0   \n",
       "1                           2               0                 1.0   \n",
       "2                           2               0                12.0   \n",
       "3                           2               0                12.0   \n",
       "4                           4               0                 8.0   \n",
       "\n",
       "   Product_Category_2  Product_Category_3  Purchase  \n",
       "0                 4.0                16.0      8370  \n",
       "1                 6.0                14.0     15200  \n",
       "2                 4.0                16.0      1422  \n",
       "3                14.0                16.0      1057  \n",
       "4                 8.0                16.0      7969  "
      ]
     },
     "execution_count": 35,
     "metadata": {},
     "output_type": "execute_result"
    }
   ],
   "source": [
    "bfs.head()"
   ]
  },
  {
   "cell_type": "code",
   "execution_count": 36,
   "metadata": {
    "execution": {
     "iopub.execute_input": "2022-09-22T12:38:37.729005Z",
     "iopub.status.busy": "2022-09-22T12:38:37.72854Z",
     "iopub.status.idle": "2022-09-22T12:38:40.253457Z",
     "shell.execute_reply": "2022-09-22T12:38:40.252564Z",
     "shell.execute_reply.started": "2022-09-22T12:38:37.728966Z"
    }
   },
   "outputs": [],
   "source": [
    "bfs.to_csv('./bfs_clean_data.csv') # Saivng cleaned dataset in output directory."
   ]
  },
  {
   "cell_type": "markdown",
   "metadata": {},
   "source": [
    "Therefore, we cleaned our data successfully without losing single value, we got total 550068 values.\n",
    "\n",
    "If you have more cleaning ideas on this dataset place in comments or in Diccussion."
   ]
  },
  {
   "cell_type": "markdown",
   "metadata": {},
   "source": [
    "## Data Visualization"
   ]
  },
  {
   "cell_type": "code",
   "execution_count": 58,
   "metadata": {
    "execution": {
     "iopub.execute_input": "2022-09-22T12:38:40.255307Z",
     "iopub.status.busy": "2022-09-22T12:38:40.254571Z",
     "iopub.status.idle": "2022-09-22T12:38:40.274245Z",
     "shell.execute_reply": "2022-09-22T12:38:40.273025Z",
     "shell.execute_reply.started": "2022-09-22T12:38:40.25527Z"
    }
   },
   "outputs": [
    {
     "data": {
      "text/html": [
       "<div>\n",
       "<style scoped>\n",
       "    .dataframe tbody tr th:only-of-type {\n",
       "        vertical-align: middle;\n",
       "    }\n",
       "\n",
       "    .dataframe tbody tr th {\n",
       "        vertical-align: top;\n",
       "    }\n",
       "\n",
       "    .dataframe thead th {\n",
       "        text-align: right;\n",
       "    }\n",
       "</style>\n",
       "<table border=\"1\" class=\"dataframe\">\n",
       "  <thead>\n",
       "    <tr style=\"text-align: right;\">\n",
       "      <th></th>\n",
       "      <th>User_ID</th>\n",
       "      <th>Product_ID</th>\n",
       "      <th>Gender</th>\n",
       "      <th>Age</th>\n",
       "      <th>Occupation</th>\n",
       "      <th>City_Category</th>\n",
       "      <th>Stay_In_Current_City_Years</th>\n",
       "      <th>Marital_Status</th>\n",
       "      <th>Product_Category_1</th>\n",
       "      <th>Product_Category_2</th>\n",
       "      <th>Product_Category_3</th>\n",
       "      <th>Purchase</th>\n",
       "    </tr>\n",
       "  </thead>\n",
       "  <tbody>\n",
       "    <tr>\n",
       "      <th>0</th>\n",
       "      <td>1000001</td>\n",
       "      <td>P00069042</td>\n",
       "      <td>F</td>\n",
       "      <td>0-17</td>\n",
       "      <td>10</td>\n",
       "      <td>A</td>\n",
       "      <td>2</td>\n",
       "      <td>0</td>\n",
       "      <td>3.0</td>\n",
       "      <td>4.0</td>\n",
       "      <td>16.0</td>\n",
       "      <td>8370</td>\n",
       "    </tr>\n",
       "    <tr>\n",
       "      <th>1</th>\n",
       "      <td>1000001</td>\n",
       "      <td>P00248942</td>\n",
       "      <td>F</td>\n",
       "      <td>0-17</td>\n",
       "      <td>10</td>\n",
       "      <td>A</td>\n",
       "      <td>2</td>\n",
       "      <td>0</td>\n",
       "      <td>1.0</td>\n",
       "      <td>6.0</td>\n",
       "      <td>14.0</td>\n",
       "      <td>15200</td>\n",
       "    </tr>\n",
       "    <tr>\n",
       "      <th>2</th>\n",
       "      <td>1000001</td>\n",
       "      <td>P00087842</td>\n",
       "      <td>F</td>\n",
       "      <td>0-17</td>\n",
       "      <td>10</td>\n",
       "      <td>A</td>\n",
       "      <td>2</td>\n",
       "      <td>0</td>\n",
       "      <td>12.0</td>\n",
       "      <td>4.0</td>\n",
       "      <td>16.0</td>\n",
       "      <td>1422</td>\n",
       "    </tr>\n",
       "    <tr>\n",
       "      <th>3</th>\n",
       "      <td>1000001</td>\n",
       "      <td>P00085442</td>\n",
       "      <td>F</td>\n",
       "      <td>0-17</td>\n",
       "      <td>10</td>\n",
       "      <td>A</td>\n",
       "      <td>2</td>\n",
       "      <td>0</td>\n",
       "      <td>12.0</td>\n",
       "      <td>14.0</td>\n",
       "      <td>16.0</td>\n",
       "      <td>1057</td>\n",
       "    </tr>\n",
       "    <tr>\n",
       "      <th>4</th>\n",
       "      <td>1000002</td>\n",
       "      <td>P00285442</td>\n",
       "      <td>M</td>\n",
       "      <td>55+</td>\n",
       "      <td>16</td>\n",
       "      <td>C</td>\n",
       "      <td>4</td>\n",
       "      <td>0</td>\n",
       "      <td>8.0</td>\n",
       "      <td>8.0</td>\n",
       "      <td>16.0</td>\n",
       "      <td>7969</td>\n",
       "    </tr>\n",
       "  </tbody>\n",
       "</table>\n",
       "</div>"
      ],
      "text/plain": [
       "   User_ID Product_ID Gender   Age  Occupation City_Category  \\\n",
       "0  1000001  P00069042      F  0-17          10             A   \n",
       "1  1000001  P00248942      F  0-17          10             A   \n",
       "2  1000001  P00087842      F  0-17          10             A   \n",
       "3  1000001  P00085442      F  0-17          10             A   \n",
       "4  1000002  P00285442      M   55+          16             C   \n",
       "\n",
       "   Stay_In_Current_City_Years  Marital_Status  Product_Category_1  \\\n",
       "0                           2               0                 3.0   \n",
       "1                           2               0                 1.0   \n",
       "2                           2               0                12.0   \n",
       "3                           2               0                12.0   \n",
       "4                           4               0                 8.0   \n",
       "\n",
       "   Product_Category_2  Product_Category_3  Purchase  \n",
       "0                 4.0                16.0      8370  \n",
       "1                 6.0                14.0     15200  \n",
       "2                 4.0                16.0      1422  \n",
       "3                14.0                16.0      1057  \n",
       "4                 8.0                16.0      7969  "
      ]
     },
     "execution_count": 58,
     "metadata": {},
     "output_type": "execute_result"
    }
   ],
   "source": [
    "bfs.head()"
   ]
  },
  {
   "cell_type": "markdown",
   "metadata": {},
   "source": [
    "### 1) Find the density of purchase in which most of purchase took place. Also Check Distribution and Outliers of 'purchase'"
   ]
  },
  {
   "cell_type": "code",
   "execution_count": 42,
   "metadata": {
    "execution": {
     "iopub.execute_input": "2022-09-22T12:39:15.86302Z",
     "iopub.status.busy": "2022-09-22T12:39:15.862529Z",
     "iopub.status.idle": "2022-09-22T12:39:18.402886Z",
     "shell.execute_reply": "2022-09-22T12:39:18.401782Z",
     "shell.execute_reply.started": "2022-09-22T12:39:15.86298Z"
    }
   },
   "outputs": [
    {
     "data": {
      "image/png": "[encoded data removed]",
      "text/plain": [
       "<Figure size 1080x360 with 2 Axes>"
      ]
     },
     "metadata": {
      "needs_background": "light"
     },
     "output_type": "display_data"
    }
   ],
   "source": [
    "plt.figure(figsize=(15,5))\n",
    "plt.subplots_adjust(left=0.1,\n",
    "                    bottom=0.1,\n",
    "                    right=1,\n",
    "                    top=0.9,\n",
    "                    wspace=0.4,\n",
    "                    hspace=0.4)\n",
    "plt.subplot(1,2,1)\n",
    "plt.title('Density Over Purchase')\n",
    "sns.kdeplot('Purchase',data=bfs)\n",
    "plt.subplot(1,2,2)\n",
    "sns.boxplot(y='Purchase',data=bfs)\n",
    "plt.title('Purchase Range')\n",
    "plt.show()"
   ]
  },
  {
   "cell_type": "markdown",
   "metadata": {},
   "source": [
    "We observed that most of the purcahse value is between 5000 to 10000.  "
   ]
  },
  {
   "cell_type": "markdown",
   "metadata": {},
   "source": [
    "## Get purchase details of Male and Female customers? {'M','F'}."
   ]
  },
  {
   "cell_type": "markdown",
   "metadata": {},
   "source": [
    "#### 2) Find which kind of customer visits more frequently ? Male or Female?{'M','F'}."
   ]
  },
  {
   "cell_type": "code",
   "execution_count": 44,
   "metadata": {
    "execution": {
     "iopub.execute_input": "2022-09-22T12:39:28.10026Z",
     "iopub.status.busy": "2022-09-22T12:39:28.099803Z",
     "iopub.status.idle": "2022-09-22T12:39:28.303805Z",
     "shell.execute_reply": "2022-09-22T12:39:28.301911Z",
     "shell.execute_reply.started": "2022-09-22T12:39:28.100216Z"
    }
   },
   "outputs": [
    {
     "data": {
      "image/png": "[encoded data removed]",
      "text/plain": [
       "<Figure size 360x360 with 1 Axes>"
      ]
     },
     "metadata": {},
     "output_type": "display_data"
    }
   ],
   "source": [
    "bfs.groupby('Gender').agg({'Gender':'count'}).Gender.plot(kind='pie',autopct='%1.1f%%',figsize=(5,5),shadow=True)\n",
    "plt.title('Gender Percentage')\n",
    "plt.show()\n"
   ]
  },
  {
   "cell_type": "markdown",
   "metadata": {},
   "source": [
    "We see that 75% Male customers visits us frequently."
   ]
  },
  {
   "cell_type": "markdown",
   "metadata": {},
   "source": [
    "#### 3) Purchase Distribution of 'Male' and 'Female' customers."
   ]
  },
  {
   "cell_type": "code",
   "execution_count": 51,
   "metadata": {
    "execution": {
     "iopub.execute_input": "2022-09-22T12:39:37.56607Z",
     "iopub.status.busy": "2022-09-22T12:39:37.565637Z",
     "iopub.status.idle": "2022-09-22T12:39:38.287677Z",
     "shell.execute_reply": "2022-09-22T12:39:38.286713Z",
     "shell.execute_reply.started": "2022-09-22T12:39:37.566038Z"
    }
   },
   "outputs": [
    {
     "data": {
      "image/png": "[encoded data removed]",
      "text/plain": [
       "<Figure size 1080x576 with 2 Axes>"
      ]
     },
     "metadata": {
      "needs_background": "light"
     },
     "output_type": "display_data"
    }
   ],
   "source": [
    "plt.figure(figsize=(15,8))\n",
    "plt.subplots_adjust(left=0.1,\n",
    "                    bottom=0.1,\n",
    "                    right=1.2,\n",
    "                    top=0.9,\n",
    "                    wspace=0.4,\n",
    "                    hspace=0.4)\n",
    "ma=bfs[bfs['Gender']=='M'].value_counts('Purchase').reset_index()\n",
    "fe=bfs[bfs['Gender']=='F'].value_counts('Purchase').to_frame()\n",
    "plt.subplot(1,2,1)\n",
    "sns.kdeplot('Purchase',data=ma).set_title('Male')\n",
    "plt.subplot(1,2,2)\n",
    "sns.kdeplot('Purchase',data=fe).set_title('Female')\n",
    "plt.suptitle('Purchase Distribution of Male and Female customers')\n",
    "plt.show()"
   ]
  },
  {
   "cell_type": "markdown",
   "metadata": {},
   "source": [
    "#### 4) Find which kind of customer purchasing more ? Male or Female?{'M','F'}."
   ]
  },
  {
   "cell_type": "code",
   "execution_count": 55,
   "metadata": {
    "execution": {
     "iopub.execute_input": "2022-09-22T12:38:43.844002Z",
     "iopub.status.busy": "2022-09-22T12:38:43.843122Z",
     "iopub.status.idle": "2022-09-22T12:38:44.106424Z",
     "shell.execute_reply": "2022-09-22T12:38:44.105486Z",
     "shell.execute_reply.started": "2022-09-22T12:38:43.843943Z"
    }
   },
   "outputs": [
    {
     "data": {
      "text/html": [
       "<div>\n",
       "<style scoped>\n",
       "    .dataframe tbody tr th:only-of-type {\n",
       "        vertical-align: middle;\n",
       "    }\n",
       "\n",
       "    .dataframe tbody tr th {\n",
       "        vertical-align: top;\n",
       "    }\n",
       "\n",
       "    .dataframe thead th {\n",
       "        text-align: right;\n",
       "    }\n",
       "</style>\n",
       "<table border=\"1\" class=\"dataframe\">\n",
       "  <thead>\n",
       "    <tr style=\"text-align: right;\">\n",
       "      <th></th>\n",
       "      <th>Gender</th>\n",
       "      <th>Purchase</th>\n",
       "    </tr>\n",
       "  </thead>\n",
       "  <tbody>\n",
       "    <tr>\n",
       "      <th>0</th>\n",
       "      <td>F</td>\n",
       "      <td>1186232642</td>\n",
       "    </tr>\n",
       "    <tr>\n",
       "      <th>1</th>\n",
       "      <td>M</td>\n",
       "      <td>3909580100</td>\n",
       "    </tr>\n",
       "  </tbody>\n",
       "</table>\n",
       "</div>"
      ],
      "text/plain": [
       "  Gender    Purchase\n",
       "0      F  1186232642\n",
       "1      M  3909580100"
      ]
     },
     "execution_count": 55,
     "metadata": {},
     "output_type": "execute_result"
    },
    {
     "data": {
      "image/png": "[encoded data removed]",
      "text/plain": [
       "<Figure size 432x288 with 1 Axes>"
      ]
     },
     "metadata": {
      "needs_background": "light"
     },
     "output_type": "display_data"
    }
   ],
   "source": [
    "p=bfs.groupby('Gender').agg({'Purchase':sum}).reset_index()\n",
    "sns.barplot(x='Gender',y='Purchase',data=p)\n",
    "plt.title('Purchase w.r.t Gender')\n",
    "p"
   ]
  },
  {
   "cell_type": "markdown",
   "metadata": {},
   "source": [
    "We observed that 'Male' customers are purchasing more."
   ]
  },
  {
   "cell_type": "markdown",
   "metadata": {},
   "source": [
    "#### 5) Find which Product customer buying most by seaing product_id."
   ]
  },
  {
   "cell_type": "code",
   "execution_count": 59,
   "metadata": {
    "execution": {
     "iopub.execute_input": "2022-09-22T12:38:44.108296Z",
     "iopub.status.busy": "2022-09-22T12:38:44.107726Z",
     "iopub.status.idle": "2022-09-22T12:38:45.170329Z",
     "shell.execute_reply": "2022-09-22T12:38:45.168959Z",
     "shell.execute_reply.started": "2022-09-22T12:38:44.108261Z"
    }
   },
   "outputs": [
    {
     "data": {
      "image/png": "[encoded data removed]",
      "text/plain": [
       "<Figure size 360x720 with 1 Axes>"
      ]
     },
     "metadata": {
      "needs_background": "light"
     },
     "output_type": "display_data"
    }
   ],
   "source": [
    "p_id=bfs.value_counts('Product_ID').sort_values(ascending=False).head(50)\n",
    "plt.figure(figsize=(5,10))\n",
    "sns.barplot(y=p_id.index,x=p_id)\n",
    "plt.title('Most Buying Product by Customers')\n",
    "plt.show()"
   ]
  },
  {
   "cell_type": "markdown",
   "metadata": {},
   "source": [
    "Here are the 'top 50' product_id's which are customers buying most."
   ]
  },
  {
   "cell_type": "markdown",
   "metadata": {},
   "source": [
    "#### 6) Find 'sub_product' which is selling most from each product_category and which customer category buying that product most?{'M','F'}."
   ]
  },
  {
   "cell_type": "code",
   "execution_count": 61,
   "metadata": {
    "execution": {
     "iopub.execute_input": "2022-09-22T12:39:52.583041Z",
     "iopub.status.busy": "2022-09-22T12:39:52.582623Z",
     "iopub.status.idle": "2022-09-22T12:39:54.033628Z",
     "shell.execute_reply": "2022-09-22T12:39:54.032745Z",
     "shell.execute_reply.started": "2022-09-22T12:39:52.583009Z"
    }
   },
   "outputs": [
    {
     "data": {
      "image/png": "[encoded data removed]",
      "text/plain": [
       "<Figure size 1080x360 with 3 Axes>"
      ]
     },
     "metadata": {
      "needs_background": "light"
     },
     "output_type": "display_data"
    }
   ],
   "source": [
    "c1=bfs.groupby('Gender')['Product_Category_1'].value_counts().to_frame().rename(columns={\"Product_Category_1\":'p_count'}).reset_index()\n",
    "c2=bfs.groupby('Gender')['Product_Category_2'].value_counts().to_frame().rename(columns={\"Product_Category_2\":'p_count'}).reset_index()\n",
    "c3=bfs.groupby('Gender')['Product_Category_3'].value_counts().to_frame().rename(columns={\"Product_Category_3\":'p_count'}).reset_index()\n",
    "plt.figure(figsize=(15,5))\n",
    "plt.subplots_adjust(left=0.1,\n",
    "                    bottom=0.1,\n",
    "                    right=1.2,\n",
    "                    top=0.9,\n",
    "                    wspace=0.4,\n",
    "                    hspace=0.4)\n",
    "plt.subplot(1,3,1)\n",
    "sns.barplot(x='Product_Category_1',y='p_count',hue='Gender',data=c1).set_title('Purchase by Gender for Product_Category_1')\n",
    "plt.subplot(1,3,2)\n",
    "sns.barplot(x='Product_Category_2',y='p_count',hue='Gender',data=c2).set_title('Purchase by Gender for Product_Category_2')\n",
    "plt.subplot(1,3,3)\n",
    "sns.barplot(x='Product_Category_3',y='p_count',hue='Gender',data=c3).set_title('Purchase by Gender for Product_Category_3')\n",
    "plt.show()"
   ]
  },
  {
   "cell_type": "markdown",
   "metadata": {},
   "source": [
    "Here we can see, we have three product_categories and on x-axis we having some values that are nothing but sub_products of that product_category in masked format.\n",
    "\n",
    "The graph showing that the sub_product count and the two colours bar are showing that the customer category count wich are buying that product.\n",
    "\n",
    "We observed that there are some sub_product's selling count is high and most of the 'Male' customers buying that product."
   ]
  },
  {
   "cell_type": "markdown",
   "metadata": {},
   "source": [
    "## Get purchase details of 'Married' and 'UnMarried' customers.{'UnMarried': 0, 'Married': 1}"
   ]
  },
  {
   "cell_type": "markdown",
   "metadata": {},
   "source": [
    "#### 7) Purchase Distribution of Married and UnMarried customers."
   ]
  },
  {
   "cell_type": "code",
   "execution_count": 64,
   "metadata": {
    "execution": {
     "iopub.execute_input": "2022-09-22T12:40:00.115815Z",
     "iopub.status.busy": "2022-09-22T12:40:00.115342Z",
     "iopub.status.idle": "2022-09-22T12:40:01.04153Z",
     "shell.execute_reply": "2022-09-22T12:40:01.040658Z",
     "shell.execute_reply.started": "2022-09-22T12:40:00.115775Z"
    }
   },
   "outputs": [
    {
     "data": {
      "image/png": "[encoded data removed]",
      "text/plain": [
       "<Figure size 1080x576 with 2 Axes>"
      ]
     },
     "metadata": {
      "needs_background": "light"
     },
     "output_type": "display_data"
    }
   ],
   "source": [
    "UM_P=bfs[bfs['Marital_Status']==0].value_counts('Purchase').to_frame()\n",
    "M_P=bfs[bfs['Marital_Status']==1].value_counts('Purchase').to_frame()\n",
    "plt.figure(figsize=(15,8))\n",
    "plt.subplots_adjust(left=0.1,\n",
    "                    bottom=0.1,\n",
    "                    right=1.2,\n",
    "                    top=0.9,\n",
    "                    wspace=0.4,\n",
    "                    hspace=0.4)\n",
    "plt.subplot(1,2,1)\n",
    "sns.kdeplot('Purchase',data=UM_P).set_title('UnMarried')\n",
    "plt.subplot(1,2,2)\n",
    "sns.kdeplot('Purchase',data=M_P).set_title('Married')\n",
    "plt.suptitle('Purchase Distribution of Married and UnMarried customers')\n",
    "plt.show()"
   ]
  },
  {
   "cell_type": "markdown",
   "metadata": {},
   "source": [
    "Purchase distribution of both 'Married' and 'UnMarried' customers are quitely same."
   ]
  },
  {
   "cell_type": "markdown",
   "metadata": {},
   "source": [
    "#### 8) Find which customer visits more frequently ? UnMarried or Married? {'UnMarried': 0, 'Married': 1}."
   ]
  },
  {
   "cell_type": "code",
   "execution_count": 65,
   "metadata": {
    "execution": {
     "iopub.execute_input": "2022-09-22T12:40:09.43931Z",
     "iopub.status.busy": "2022-09-22T12:40:09.438868Z",
     "iopub.status.idle": "2022-09-22T12:40:09.574342Z",
     "shell.execute_reply": "2022-09-22T12:40:09.572707Z",
     "shell.execute_reply.started": "2022-09-22T12:40:09.439274Z"
    }
   },
   "outputs": [
    {
     "data": {
      "image/png": "[encoded data removed]",
      "text/plain": [
       "<Figure size 360x360 with 1 Axes>"
      ]
     },
     "metadata": {},
     "output_type": "display_data"
    }
   ],
   "source": [
    "bfs.groupby('Marital_Status').agg({'Marital_Status':'count'}).Marital_Status.plot(kind='pie',autopct='%1.1f%%',figsize=(5,5),shadow=True)\n",
    "plt.title('Customer Visits Frequently (UnMarried v/s Married)')\n",
    "plt.show()"
   ]
  },
  {
   "cell_type": "markdown",
   "metadata": {},
   "source": [
    "We observed that 'UnMarried' customers Visiting us frequently. And we have 'Married' customer in large amount as well."
   ]
  },
  {
   "cell_type": "markdown",
   "metadata": {},
   "source": [
    "#### 9) Find which customer purchasing more (Married or UnMarried) and Top 10 products purcahsed by them."
   ]
  },
  {
   "cell_type": "code",
   "execution_count": 42,
   "metadata": {
    "execution": {
     "iopub.execute_input": "2022-09-22T12:38:47.660252Z",
     "iopub.status.busy": "2022-09-22T12:38:47.65897Z",
     "iopub.status.idle": "2022-09-22T12:38:47.692506Z",
     "shell.execute_reply": "2022-09-22T12:38:47.689863Z",
     "shell.execute_reply.started": "2022-09-22T12:38:47.660171Z"
    }
   },
   "outputs": [
    {
     "data": {
      "text/html": [
       "<div>\n",
       "<style scoped>\n",
       "    .dataframe tbody tr th:only-of-type {\n",
       "        vertical-align: middle;\n",
       "    }\n",
       "\n",
       "    .dataframe tbody tr th {\n",
       "        vertical-align: top;\n",
       "    }\n",
       "\n",
       "    .dataframe thead th {\n",
       "        text-align: right;\n",
       "    }\n",
       "</style>\n",
       "<table border=\"1\" class=\"dataframe\">\n",
       "  <thead>\n",
       "    <tr style=\"text-align: right;\">\n",
       "      <th></th>\n",
       "      <th>user_id</th>\n",
       "      <th>product_id</th>\n",
       "      <th>gender</th>\n",
       "      <th>age</th>\n",
       "      <th>occupation</th>\n",
       "      <th>city_category</th>\n",
       "      <th>stay_in_current_city_years</th>\n",
       "      <th>marital_status</th>\n",
       "      <th>product_category_1</th>\n",
       "      <th>product_category_2</th>\n",
       "      <th>product_category_3</th>\n",
       "      <th>purchase</th>\n",
       "    </tr>\n",
       "  </thead>\n",
       "  <tbody>\n",
       "    <tr>\n",
       "      <th>0</th>\n",
       "      <td>1000001</td>\n",
       "      <td>P00069042</td>\n",
       "      <td>F</td>\n",
       "      <td>0-17</td>\n",
       "      <td>10</td>\n",
       "      <td>A</td>\n",
       "      <td>2</td>\n",
       "      <td>0</td>\n",
       "      <td>3.0</td>\n",
       "      <td>4.0</td>\n",
       "      <td>16.0</td>\n",
       "      <td>8370</td>\n",
       "    </tr>\n",
       "  </tbody>\n",
       "</table>\n",
       "</div>"
      ],
      "text/plain": [
       "   user_id product_id gender   age  occupation city_category  \\\n",
       "0  1000001  P00069042      F  0-17          10             A   \n",
       "\n",
       "   stay_in_current_city_years  marital_status  product_category_1  \\\n",
       "0                           2               0                 3.0   \n",
       "\n",
       "   product_category_2  product_category_3  purchase  \n",
       "0                 4.0                16.0      8370  "
      ]
     },
     "execution_count": 42,
     "metadata": {},
     "output_type": "execute_result"
    }
   ],
   "source": [
    "bfs.head(1)"
   ]
  },
  {
   "cell_type": "code",
   "execution_count": 43,
   "metadata": {
    "execution": {
     "iopub.execute_input": "2022-09-22T12:38:47.69702Z",
     "iopub.status.busy": "2022-09-22T12:38:47.694998Z",
     "iopub.status.idle": "2022-09-22T12:38:48.508164Z",
     "shell.execute_reply": "2022-09-22T12:38:48.506961Z",
     "shell.execute_reply.started": "2022-09-22T12:38:47.696948Z"
    }
   },
   "outputs": [
    {
     "data": {
      "text/html": [
       "<div>\n",
       "<style scoped>\n",
       "    .dataframe tbody tr th:only-of-type {\n",
       "        vertical-align: middle;\n",
       "    }\n",
       "\n",
       "    .dataframe tbody tr th {\n",
       "        vertical-align: top;\n",
       "    }\n",
       "\n",
       "    .dataframe thead th {\n",
       "        text-align: right;\n",
       "    }\n",
       "</style>\n",
       "<table border=\"1\" class=\"dataframe\">\n",
       "  <thead>\n",
       "    <tr style=\"text-align: right;\">\n",
       "      <th></th>\n",
       "      <th>gender</th>\n",
       "      <th>marital_status</th>\n",
       "      <th>purchase</th>\n",
       "    </tr>\n",
       "  </thead>\n",
       "  <tbody>\n",
       "    <tr>\n",
       "      <th>0</th>\n",
       "      <td>F</td>\n",
       "      <td>0</td>\n",
       "      <td>684154127</td>\n",
       "    </tr>\n",
       "    <tr>\n",
       "      <th>1</th>\n",
       "      <td>F</td>\n",
       "      <td>1</td>\n",
       "      <td>502078515</td>\n",
       "    </tr>\n",
       "    <tr>\n",
       "      <th>2</th>\n",
       "      <td>M</td>\n",
       "      <td>0</td>\n",
       "      <td>2324773320</td>\n",
       "    </tr>\n",
       "    <tr>\n",
       "      <th>3</th>\n",
       "      <td>M</td>\n",
       "      <td>1</td>\n",
       "      <td>1584806780</td>\n",
       "    </tr>\n",
       "  </tbody>\n",
       "</table>\n",
       "</div>"
      ],
      "text/plain": [
       "  gender  marital_status    purchase\n",
       "0      F               0   684154127\n",
       "1      F               1   502078515\n",
       "2      M               0  2324773320\n",
       "3      M               1  1584806780"
      ]
     },
     "execution_count": 43,
     "metadata": {},
     "output_type": "execute_result"
    },
    {
     "data": {
      "image/png": "[encoded data removed]",
      "text/plain": [
       "<Figure size 432x288 with 3 Axes>"
      ]
     },
     "metadata": {
      "needs_background": "light"
     },
     "output_type": "display_data"
    }
   ],
   "source": [
    "M_UM_P=bfs.groupby(['Gender','Marital_Status']).agg({'Purchase':sum}).reset_index()\n",
    "UM=bfs[bfs['Marital_Status']==0].value_counts('Product_ID').nlargest(10)\n",
    "M=bfs[bfs['Marital_Status']==1].value_counts('Product_ID').nlargest(10)\n",
    "plt.subplots_adjust(left=1,\n",
    "                    bottom=1,\n",
    "                    right=3,\n",
    "                    top=3,\n",
    "                    wspace=0.4,\n",
    "                    hspace=0.4)\n",
    "plt.subplot(2,2,1)\n",
    "sns.barplot(x='marital_status',y='purchase',hue='gender',data=M_UM_P).set_title('Purchase Count w.r.t Gender and Marital St')\n",
    "plt.subplot(2,2,3)\n",
    "UM.plot(x=UM.index,y=UM,kind='bar',title='UnMarried_Customer')\n",
    "plt.subplot(2,2,4)\n",
    "M.plot(x=M.index,y=M,kind='bar',title='Married_Customer')\n",
    "M_UM_P"
   ]
  },
  {
   "cell_type": "markdown",
   "metadata": {},
   "source": [
    "In the above plot we can see that 'UnMarried' customers purchasing more than the 'Married' customers.\n",
    "\n",
    "And BarPlot showing that top 10 Product Id's purshased by them frequently."
   ]
  },
  {
   "cell_type": "markdown",
   "metadata": {},
   "source": [
    "## Summary:\n",
    "In the Given dataset. I explored and learned many things like,\n",
    "\n",
    "* How to fill NaN values.\n",
    "\n",
    "* Where we can use the concept of code reusability.\n",
    "\n",
    "* In the process of cleaning the dataset I used Pandas and Numpy libraries. Using pandas and numpy I removed unwanted(useless) data and created new data frames and got useful data for my research. After cleaning my data I used Seaborn and Matplotlib libraries to read my data by visualizing it. I created questions regarding my research I tried to solve it by visualizing and applying conditions.\n",
    "\n",
    "* Now, they want to build a model to predict the purchase amount of customer against various products which will help them to create personalized offer for customers against different products. By seeing this EDA we can fulfill this requirements."
   ]
  },
  {
   "cell_type": "markdown",
   "metadata": {},
   "source": [
    "## Future Work\n",
    "* We can apply Machine Learning algorithms to predict sales.\n",
    "* We can use SMOTE to handle unbalanced data in some of the columns like age.\n",
    "* We can deploy the project using gradio."
   ]
  },
  {
   "cell_type": "markdown",
   "metadata": {},
   "source": [
    "## References\n",
    "\n",
    "* Medium: https://medium.com/code-heroku/introduction-to-exploratory-data-analysis-eda-c0257f888676\n",
    "* Kaggle: https://www.kaggle.com/code/spscientist/a-simple-tutorial-on-exploratory-data-analysis"
   ]
  },
  {
   "cell_type": "code",
   "execution_count": null,
   "metadata": {},
   "outputs": [],
   "source": []
  }
 ],
 "metadata": {
  "kernelspec": {
   "display_name": "Python 3",
   "language": "python",
   "name": "python3"
  },
  "language_info": {
   "codemirror_mode": {
    "name": "ipython",
    "version": 3
   },
   "file_extension": ".py",
   "mimetype": "text/x-python",
   "name": "python",
   "nbconvert_exporter": "python",
   "pygments_lexer": "ipython3",
   "version": "3.12.9"
  }
 },
 "nbformat": 4,
 "nbformat_minor": 4
}
